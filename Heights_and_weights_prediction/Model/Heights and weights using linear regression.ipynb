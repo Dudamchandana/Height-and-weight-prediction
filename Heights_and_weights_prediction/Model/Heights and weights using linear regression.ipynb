{
 "cells": [
  {
   "cell_type": "markdown",
   "id": "aa8c5c9c",
   "metadata": {},
   "source": [
    "# Height-Weight Prediction By Using Linear Regression "
   ]
  },
  {
   "cell_type": "markdown",
   "id": "f2e7763a",
   "metadata": {},
   "source": [
    "### Abstract\n",
    "Height and weight prediction has been a popular problem in ergonomics study. "
   ]
  },
  {
   "cell_type": "markdown",
   "id": "fbb89a9b",
   "metadata": {},
   "source": [
    "### Dataset\n",
    "The dataset is collected from Kaggle website. Here is the link : https://www.kaggle.com/tmcketterick/heights-and-weights\n",
    "\n",
    "The data contains the variables\n",
    "- Height (m)\n",
    "- Weight (kg)"
   ]
  },
  {
   "cell_type": "markdown",
   "id": "3404b7b3",
   "metadata": {},
   "source": [
    "<a id = 'import'></a>\n",
    "### Importing the Dataset and the required libraries"
   ]
  },
  {
   "cell_type": "code",
   "execution_count": 1,
   "id": "8785dbe5",
   "metadata": {
    "execution": {
     "iopub.execute_input": "2021-06-06T17:10:55.846545Z",
     "iopub.status.busy": "2021-06-06T17:10:55.845772Z",
     "iopub.status.idle": "2021-06-06T17:10:55.849049Z",
     "shell.execute_reply": "2021-06-06T17:10:55.848326Z",
     "shell.execute_reply.started": "2021-06-06T17:09:57.318156Z"
    },
    "papermill": {
     "duration": 0.025701,
     "end_time": "2021-06-06T17:10:55.849257",
     "exception": false,
     "start_time": "2021-06-06T17:10:55.823556",
     "status": "completed"
    },
    "tags": []
   },
   "outputs": [],
   "source": [
    "# Importing Libraries\n",
    "import numpy as np\n",
    "import pandas as pd\n",
    "import matplotlib.pyplot as plt"
   ]
  },
  {
   "cell_type": "code",
   "execution_count": 2,
   "id": "16f7e99d",
   "metadata": {
    "execution": {
     "iopub.execute_input": "2021-06-06T17:10:55.882204Z",
     "iopub.status.busy": "2021-06-06T17:10:55.881449Z",
     "iopub.status.idle": "2021-06-06T17:10:55.925838Z",
     "shell.execute_reply": "2021-06-06T17:10:55.926351Z",
     "shell.execute_reply.started": "2021-06-06T17:09:57.325297Z"
    },
    "papermill": {
     "duration": 0.063318,
     "end_time": "2021-06-06T17:10:55.926552",
     "exception": false,
     "start_time": "2021-06-06T17:10:55.863234",
     "status": "completed"
    },
    "tags": []
   },
   "outputs": [
    {
     "data": {
      "text/html": [
       "<div>\n",
       "<style scoped>\n",
       "    .dataframe tbody tr th:only-of-type {\n",
       "        vertical-align: middle;\n",
       "    }\n",
       "\n",
       "    .dataframe tbody tr th {\n",
       "        vertical-align: top;\n",
       "    }\n",
       "\n",
       "    .dataframe thead th {\n",
       "        text-align: right;\n",
       "    }\n",
       "</style>\n",
       "<table border=\"1\" class=\"dataframe\">\n",
       "  <thead>\n",
       "    <tr style=\"text-align: right;\">\n",
       "      <th></th>\n",
       "      <th>Height</th>\n",
       "      <th>Weight</th>\n",
       "    </tr>\n",
       "  </thead>\n",
       "  <tbody>\n",
       "    <tr>\n",
       "      <th>0</th>\n",
       "      <td>1.47</td>\n",
       "      <td>52.21</td>\n",
       "    </tr>\n",
       "    <tr>\n",
       "      <th>1</th>\n",
       "      <td>1.50</td>\n",
       "      <td>53.12</td>\n",
       "    </tr>\n",
       "    <tr>\n",
       "      <th>2</th>\n",
       "      <td>1.52</td>\n",
       "      <td>54.48</td>\n",
       "    </tr>\n",
       "    <tr>\n",
       "      <th>3</th>\n",
       "      <td>1.55</td>\n",
       "      <td>55.84</td>\n",
       "    </tr>\n",
       "    <tr>\n",
       "      <th>4</th>\n",
       "      <td>1.57</td>\n",
       "      <td>57.20</td>\n",
       "    </tr>\n",
       "  </tbody>\n",
       "</table>\n",
       "</div>"
      ],
      "text/plain": [
       "   Height  Weight\n",
       "0    1.47   52.21\n",
       "1    1.50   53.12\n",
       "2    1.52   54.48\n",
       "3    1.55   55.84\n",
       "4    1.57   57.20"
      ]
     },
     "execution_count": 2,
     "metadata": {},
     "output_type": "execute_result"
    }
   ],
   "source": [
    "# Loading Data\n",
    "data = pd.read_csv('C:\\\\Users\\\\chand\\\\OneDrive\\\\Documents\\\\Heights_and_weights_prediction\\\\Dataset\\\\data.csv')\n",
    "df= data.head()\n",
    "df"
   ]
  },
  {
   "cell_type": "markdown",
   "id": "fd6c1f45",
   "metadata": {},
   "source": [
    "**columns of the dataset**"
   ]
  },
  {
   "cell_type": "code",
   "execution_count": 3,
   "id": "37184622",
   "metadata": {},
   "outputs": [
    {
     "data": {
      "text/plain": [
       "Index(['Height', 'Weight'], dtype='object')"
      ]
     },
     "execution_count": 3,
     "metadata": {},
     "output_type": "execute_result"
    }
   ],
   "source": [
    "data.columns"
   ]
  },
  {
   "cell_type": "markdown",
   "id": "b0f0a1b0",
   "metadata": {},
   "source": [
    "**Shape of the dataset**"
   ]
  },
  {
   "cell_type": "code",
   "execution_count": 4,
   "id": "684df557",
   "metadata": {
    "execution": {
     "iopub.execute_input": "2021-06-06T17:10:55.958185Z",
     "iopub.status.busy": "2021-06-06T17:10:55.957463Z",
     "iopub.status.idle": "2021-06-06T17:10:55.962369Z",
     "shell.execute_reply": "2021-06-06T17:10:55.962885Z",
     "shell.execute_reply.started": "2021-06-06T17:09:57.352679Z"
    },
    "papermill": {
     "duration": 0.022428,
     "end_time": "2021-06-06T17:10:55.963107",
     "exception": false,
     "start_time": "2021-06-06T17:10:55.940679",
     "status": "completed"
    },
    "tags": []
   },
   "outputs": [
    {
     "data": {
      "text/plain": [
       "(15, 2)"
      ]
     },
     "execution_count": 4,
     "metadata": {},
     "output_type": "execute_result"
    }
   ],
   "source": [
    "data.shape"
   ]
  },
  {
   "cell_type": "markdown",
   "id": "80c0ea51",
   "metadata": {},
   "source": [
    "**Is NAN check**"
   ]
  },
  {
   "cell_type": "code",
   "execution_count": 5,
   "id": "432a83c7",
   "metadata": {},
   "outputs": [
    {
     "data": {
      "text/plain": [
       "Height    False\n",
       "Weight    False\n",
       "dtype: bool"
      ]
     },
     "execution_count": 5,
     "metadata": {},
     "output_type": "execute_result"
    }
   ],
   "source": [
    "data.isna().any()"
   ]
  },
  {
   "cell_type": "markdown",
   "id": "6a142ce9",
   "metadata": {},
   "source": [
    "**Correlation between the attributes of the dataset**"
   ]
  },
  {
   "cell_type": "code",
   "execution_count": 6,
   "id": "e7953b3b",
   "metadata": {
    "execution": {
     "iopub.execute_input": "2021-06-06T17:10:55.995339Z",
     "iopub.status.busy": "2021-06-06T17:10:55.994655Z",
     "iopub.status.idle": "2021-06-06T17:10:56.006172Z",
     "shell.execute_reply": "2021-06-06T17:10:56.005567Z",
     "shell.execute_reply.started": "2021-06-06T17:09:57.361081Z"
    },
    "papermill": {
     "duration": 0.028663,
     "end_time": "2021-06-06T17:10:56.006356",
     "exception": false,
     "start_time": "2021-06-06T17:10:55.977693",
     "status": "completed"
    },
    "tags": []
   },
   "outputs": [
    {
     "data": {
      "text/html": [
       "<div>\n",
       "<style scoped>\n",
       "    .dataframe tbody tr th:only-of-type {\n",
       "        vertical-align: middle;\n",
       "    }\n",
       "\n",
       "    .dataframe tbody tr th {\n",
       "        vertical-align: top;\n",
       "    }\n",
       "\n",
       "    .dataframe thead th {\n",
       "        text-align: right;\n",
       "    }\n",
       "</style>\n",
       "<table border=\"1\" class=\"dataframe\">\n",
       "  <thead>\n",
       "    <tr style=\"text-align: right;\">\n",
       "      <th></th>\n",
       "      <th>Height</th>\n",
       "      <th>Weight</th>\n",
       "    </tr>\n",
       "  </thead>\n",
       "  <tbody>\n",
       "    <tr>\n",
       "      <th>Height</th>\n",
       "      <td>1.000000</td>\n",
       "      <td>0.994584</td>\n",
       "    </tr>\n",
       "    <tr>\n",
       "      <th>Weight</th>\n",
       "      <td>0.994584</td>\n",
       "      <td>1.000000</td>\n",
       "    </tr>\n",
       "  </tbody>\n",
       "</table>\n",
       "</div>"
      ],
      "text/plain": [
       "          Height    Weight\n",
       "Height  1.000000  0.994584\n",
       "Weight  0.994584  1.000000"
      ]
     },
     "execution_count": 6,
     "metadata": {},
     "output_type": "execute_result"
    }
   ],
   "source": [
    "# Correlation \n",
    "data.corr()"
   ]
  },
  {
   "cell_type": "markdown",
   "id": "8e09e500",
   "metadata": {},
   "source": [
    "**values for independent variable and dependent variable in  1 & 2 dimension array**"
   ]
  },
  {
   "cell_type": "code",
   "execution_count": 7,
   "id": "032f37c9",
   "metadata": {},
   "outputs": [],
   "source": [
    "height = data.Height.values[:,np.newaxis]\n",
    "weight =data.Weight.values\n"
   ]
  },
  {
   "cell_type": "code",
   "execution_count": 8,
   "id": "b4ea7508",
   "metadata": {},
   "outputs": [
    {
     "data": {
      "text/plain": [
       "array([[1.47],\n",
       "       [1.5 ],\n",
       "       [1.52],\n",
       "       [1.55],\n",
       "       [1.57],\n",
       "       [1.6 ],\n",
       "       [1.63],\n",
       "       [1.65],\n",
       "       [1.68],\n",
       "       [1.7 ],\n",
       "       [1.73],\n",
       "       [1.75],\n",
       "       [1.78],\n",
       "       [1.8 ],\n",
       "       [1.83]])"
      ]
     },
     "execution_count": 8,
     "metadata": {},
     "output_type": "execute_result"
    }
   ],
   "source": [
    "height\n"
   ]
  },
  {
   "cell_type": "code",
   "execution_count": 9,
   "id": "b30faae4",
   "metadata": {},
   "outputs": [
    {
     "data": {
      "text/plain": [
       "array([52.21, 53.12, 54.48, 55.84, 57.2 , 58.57, 59.93, 61.29, 63.11,\n",
       "       64.47, 66.28, 68.1 , 69.92, 72.19, 74.46])"
      ]
     },
     "execution_count": 9,
     "metadata": {},
     "output_type": "execute_result"
    }
   ],
   "source": [
    "weight"
   ]
  },
  {
   "cell_type": "markdown",
   "id": "5a8e2c78",
   "metadata": {},
   "source": [
    "**MIN-MAX Scaling**"
   ]
  },
  {
   "cell_type": "markdown",
   "id": "0cbb9df7",
   "metadata": {},
   "source": [
    "**Formula:-** Xnormal=(X-Xmin)/(Xmax-Xmin), where X is the values, Xman is the maximum value of the X and Xmin is the minimum value of this X."
   ]
  },
  {
   "cell_type": "code",
   "execution_count": 10,
   "id": "8081906c",
   "metadata": {},
   "outputs": [
    {
     "name": "stdout",
     "output_type": "stream",
     "text": [
      "Heightmin 1.47\n",
      "Heightmax 1.83\n",
      "Heightnorm [[0.        ]\n",
      " [0.08333333]\n",
      " [0.13888889]\n",
      " [0.22222222]\n",
      " [0.27777778]\n",
      " [0.36111111]\n",
      " [0.44444444]\n",
      " [0.5       ]\n",
      " [0.58333333]\n",
      " [0.63888889]\n",
      " [0.72222222]\n",
      " [0.77777778]\n",
      " [0.86111111]\n",
      " [0.91666667]\n",
      " [1.        ]]\n",
      "Weightmin 52.21\n",
      "Weightmax 74.46\n",
      "Weightnorm [0.         0.04089888 0.10202247 0.16314607 0.22426966 0.2858427\n",
      " 0.34696629 0.40808989 0.48988764 0.55101124 0.63235955 0.7141573\n",
      " 0.79595506 0.89797753 1.        ]\n"
     ]
    }
   ],
   "source": [
    "Heightmin=height.min()\n",
    "print('Heightmin', Heightmin)\n",
    "Heightmax=height.max() \n",
    "print('Heightmax', Heightmax)\n",
    "Heightnorm=(height-Heightmin)/(Heightmax-Heightmin)\n",
    "print('Heightnorm', Heightnorm)\n",
    "Weightmin=weight.min()\n",
    "print('Weightmin', Weightmin)\n",
    "Weightmax=weight.max()\n",
    "print('Weightmax', Weightmax)\n",
    "Weightnorm=(weight-Weightmin)/(Weightmax-Weightmin)\n",
    "print('Weightnorm', Weightnorm)"
   ]
  },
  {
   "cell_type": "markdown",
   "id": "fa97d8ed",
   "metadata": {},
   "source": [
    "**Linear Regression**"
   ]
  },
  {
   "cell_type": "markdown",
   "id": "d45cf955",
   "metadata": {},
   "source": [
    "Linear Regression is a machine learning algorithm based on supervised learning. Linear regression performs the task to predict a dependent variable value (y) based on a given independent variable (x). So, this regression technique finds out a linear relationship between x (input) and y(output).\n"
   ]
  },
  {
   "cell_type": "code",
   "execution_count": 11,
   "id": "d8c362eb",
   "metadata": {},
   "outputs": [
    {
     "data": {
      "text/html": [
       "<style>#sk-container-id-1 {color: black;background-color: white;}#sk-container-id-1 pre{padding: 0;}#sk-container-id-1 div.sk-toggleable {background-color: white;}#sk-container-id-1 label.sk-toggleable__label {cursor: pointer;display: block;width: 100%;margin-bottom: 0;padding: 0.3em;box-sizing: border-box;text-align: center;}#sk-container-id-1 label.sk-toggleable__label-arrow:before {content: \"▸\";float: left;margin-right: 0.25em;color: #696969;}#sk-container-id-1 label.sk-toggleable__label-arrow:hover:before {color: black;}#sk-container-id-1 div.sk-estimator:hover label.sk-toggleable__label-arrow:before {color: black;}#sk-container-id-1 div.sk-toggleable__content {max-height: 0;max-width: 0;overflow: hidden;text-align: left;background-color: #f0f8ff;}#sk-container-id-1 div.sk-toggleable__content pre {margin: 0.2em;color: black;border-radius: 0.25em;background-color: #f0f8ff;}#sk-container-id-1 input.sk-toggleable__control:checked~div.sk-toggleable__content {max-height: 200px;max-width: 100%;overflow: auto;}#sk-container-id-1 input.sk-toggleable__control:checked~label.sk-toggleable__label-arrow:before {content: \"▾\";}#sk-container-id-1 div.sk-estimator input.sk-toggleable__control:checked~label.sk-toggleable__label {background-color: #d4ebff;}#sk-container-id-1 div.sk-label input.sk-toggleable__control:checked~label.sk-toggleable__label {background-color: #d4ebff;}#sk-container-id-1 input.sk-hidden--visually {border: 0;clip: rect(1px 1px 1px 1px);clip: rect(1px, 1px, 1px, 1px);height: 1px;margin: -1px;overflow: hidden;padding: 0;position: absolute;width: 1px;}#sk-container-id-1 div.sk-estimator {font-family: monospace;background-color: #f0f8ff;border: 1px dotted black;border-radius: 0.25em;box-sizing: border-box;margin-bottom: 0.5em;}#sk-container-id-1 div.sk-estimator:hover {background-color: #d4ebff;}#sk-container-id-1 div.sk-parallel-item::after {content: \"\";width: 100%;border-bottom: 1px solid gray;flex-grow: 1;}#sk-container-id-1 div.sk-label:hover label.sk-toggleable__label {background-color: #d4ebff;}#sk-container-id-1 div.sk-serial::before {content: \"\";position: absolute;border-left: 1px solid gray;box-sizing: border-box;top: 0;bottom: 0;left: 50%;z-index: 0;}#sk-container-id-1 div.sk-serial {display: flex;flex-direction: column;align-items: center;background-color: white;padding-right: 0.2em;padding-left: 0.2em;position: relative;}#sk-container-id-1 div.sk-item {position: relative;z-index: 1;}#sk-container-id-1 div.sk-parallel {display: flex;align-items: stretch;justify-content: center;background-color: white;position: relative;}#sk-container-id-1 div.sk-item::before, #sk-container-id-1 div.sk-parallel-item::before {content: \"\";position: absolute;border-left: 1px solid gray;box-sizing: border-box;top: 0;bottom: 0;left: 50%;z-index: -1;}#sk-container-id-1 div.sk-parallel-item {display: flex;flex-direction: column;z-index: 1;position: relative;background-color: white;}#sk-container-id-1 div.sk-parallel-item:first-child::after {align-self: flex-end;width: 50%;}#sk-container-id-1 div.sk-parallel-item:last-child::after {align-self: flex-start;width: 50%;}#sk-container-id-1 div.sk-parallel-item:only-child::after {width: 0;}#sk-container-id-1 div.sk-dashed-wrapped {border: 1px dashed gray;margin: 0 0.4em 0.5em 0.4em;box-sizing: border-box;padding-bottom: 0.4em;background-color: white;}#sk-container-id-1 div.sk-label label {font-family: monospace;font-weight: bold;display: inline-block;line-height: 1.2em;}#sk-container-id-1 div.sk-label-container {text-align: center;}#sk-container-id-1 div.sk-container {/* jupyter's `normalize.less` sets `[hidden] { display: none; }` but bootstrap.min.css set `[hidden] { display: none !important; }` so we also need the `!important` here to be able to override the default hidden behavior on the sphinx rendered scikit-learn.org. See: https://github.com/scikit-learn/scikit-learn/issues/21755 */display: inline-block !important;position: relative;}#sk-container-id-1 div.sk-text-repr-fallback {display: none;}</style><div id=\"sk-container-id-1\" class=\"sk-top-container\"><div class=\"sk-text-repr-fallback\"><pre>LinearRegression()</pre><b>In a Jupyter environment, please rerun this cell to show the HTML representation or trust the notebook. <br />On GitHub, the HTML representation is unable to render, please try loading this page with nbviewer.org.</b></div><div class=\"sk-container\" hidden><div class=\"sk-item\"><div class=\"sk-estimator sk-toggleable\"><input class=\"sk-toggleable__control sk-hidden--visually\" id=\"sk-estimator-id-1\" type=\"checkbox\" checked><label for=\"sk-estimator-id-1\" class=\"sk-toggleable__label sk-toggleable__label-arrow\">LinearRegression</label><div class=\"sk-toggleable__content\"><pre>LinearRegression()</pre></div></div></div></div></div>"
      ],
      "text/plain": [
       "LinearRegression()"
      ]
     },
     "execution_count": 11,
     "metadata": {},
     "output_type": "execute_result"
    }
   ],
   "source": [
    "import sklearn.linear_model as lm \n",
    "lr=lm.LinearRegression() \n",
    "lr.fit(height,weight)\n"
   ]
  },
  {
   "cell_type": "code",
   "execution_count": 12,
   "id": "7e64da10",
   "metadata": {
    "execution": {
     "iopub.execute_input": "2021-06-06T17:10:57.734242Z",
     "iopub.status.busy": "2021-06-06T17:10:57.733418Z",
     "iopub.status.idle": "2021-06-06T17:10:57.737779Z",
     "shell.execute_reply": "2021-06-06T17:10:57.737033Z",
     "shell.execute_reply.started": "2021-06-06T17:09:57.576458Z"
    },
    "papermill": {
     "duration": 0.025898,
     "end_time": "2021-06-06T17:10:57.737936",
     "exception": false,
     "start_time": "2021-06-06T17:10:57.712038",
     "status": "completed"
    },
    "tags": []
   },
   "outputs": [
    {
     "name": "stdout",
     "output_type": "stream",
     "text": [
      "Coefficient: [61.27218654]\n",
      "Intercept: -39.061955918843935\n"
     ]
    }
   ],
   "source": [
    "print(f'Coefficient: {lr.coef_}')\n",
    "print(f'Intercept: {lr.intercept_}')"
   ]
  },
  {
   "cell_type": "markdown",
   "id": "7cdc9ced",
   "metadata": {},
   "source": [
    "**Predict weight based on Height**"
   ]
  },
  {
   "cell_type": "code",
   "execution_count": 13,
   "id": "4ae4428d",
   "metadata": {},
   "outputs": [
    {
     "name": "stdout",
     "output_type": "stream",
     "text": [
      "Enter the value of height:1.5\n",
      "when the height value is 1.5 that moment weight value is [52.84632389]\n"
     ]
    }
   ],
   "source": [
    "knownvalue=float(input(\"Enter the value of height:\"))\n",
    "findvalue=lr.predict([[knownvalue]])\n",
    "print(\"when the height value is\",knownvalue,\"that moment weight value is\",findvalue)"
   ]
  },
  {
   "cell_type": "markdown",
   "id": "d4b35749",
   "metadata": {},
   "source": [
    "**Insert predicted value into dataset**"
   ]
  },
  {
   "cell_type": "code",
   "execution_count": 14,
   "id": "9f51bf06",
   "metadata": {},
   "outputs": [
    {
     "data": {
      "text/html": [
       "<div>\n",
       "<style scoped>\n",
       "    .dataframe tbody tr th:only-of-type {\n",
       "        vertical-align: middle;\n",
       "    }\n",
       "\n",
       "    .dataframe tbody tr th {\n",
       "        vertical-align: top;\n",
       "    }\n",
       "\n",
       "    .dataframe thead th {\n",
       "        text-align: right;\n",
       "    }\n",
       "</style>\n",
       "<table border=\"1\" class=\"dataframe\">\n",
       "  <thead>\n",
       "    <tr style=\"text-align: right;\">\n",
       "      <th></th>\n",
       "      <th>Height</th>\n",
       "      <th>Weight</th>\n",
       "      <th>predicted_value</th>\n",
       "    </tr>\n",
       "  </thead>\n",
       "  <tbody>\n",
       "    <tr>\n",
       "      <th>0</th>\n",
       "      <td>1.47</td>\n",
       "      <td>52.21</td>\n",
       "      <td>51.008158</td>\n",
       "    </tr>\n",
       "    <tr>\n",
       "      <th>1</th>\n",
       "      <td>1.50</td>\n",
       "      <td>53.12</td>\n",
       "      <td>52.846324</td>\n",
       "    </tr>\n",
       "    <tr>\n",
       "      <th>2</th>\n",
       "      <td>1.52</td>\n",
       "      <td>54.48</td>\n",
       "      <td>54.071768</td>\n",
       "    </tr>\n",
       "    <tr>\n",
       "      <th>3</th>\n",
       "      <td>1.55</td>\n",
       "      <td>55.84</td>\n",
       "      <td>55.909933</td>\n",
       "    </tr>\n",
       "    <tr>\n",
       "      <th>4</th>\n",
       "      <td>1.57</td>\n",
       "      <td>57.20</td>\n",
       "      <td>57.135377</td>\n",
       "    </tr>\n",
       "  </tbody>\n",
       "</table>\n",
       "</div>"
      ],
      "text/plain": [
       "   Height  Weight  predicted_value\n",
       "0    1.47   52.21        51.008158\n",
       "1    1.50   53.12        52.846324\n",
       "2    1.52   54.48        54.071768\n",
       "3    1.55   55.84        55.909933\n",
       "4    1.57   57.20        57.135377"
      ]
     },
     "execution_count": 14,
     "metadata": {},
     "output_type": "execute_result"
    }
   ],
   "source": [
    "data[\"predicted_value\"]=lr.predict(height)\n",
    "data.head()"
   ]
  },
  {
   "cell_type": "markdown",
   "id": "4a4bc025",
   "metadata": {},
   "source": [
    "**Model accuracy using R2_Score**"
   ]
  },
  {
   "cell_type": "code",
   "execution_count": 15,
   "id": "ff64cb9d",
   "metadata": {},
   "outputs": [
    {
     "name": "stdout",
     "output_type": "stream",
     "text": [
      "The model accuracy is 98.91969224457968 %\n"
     ]
    }
   ],
   "source": [
    "from sklearn.metrics import r2_score\n",
    "accuracy=r2_score(weight,lr.predict(height))\n",
    "print(\"The model accuracy is\",accuracy*100,\"%\")"
   ]
  },
  {
   "cell_type": "markdown",
   "id": "3c47d692",
   "metadata": {},
   "source": [
    "<a id = '1'></a>\n",
    "### Plotting the Data Distribution"
   ]
  },
  {
   "cell_type": "code",
   "execution_count": 16,
   "id": "338c4c97",
   "metadata": {
    "execution": {
     "iopub.execute_input": "2021-06-06T17:10:56.058758Z",
     "iopub.status.busy": "2021-06-06T17:10:56.057912Z",
     "iopub.status.idle": "2021-06-06T17:10:56.252214Z",
     "shell.execute_reply": "2021-06-06T17:10:56.252822Z",
     "shell.execute_reply.started": "2021-06-06T17:09:57.375986Z"
    },
    "papermill": {
     "duration": 0.231827,
     "end_time": "2021-06-06T17:10:56.253045",
     "exception": false,
     "start_time": "2021-06-06T17:10:56.021218",
     "status": "completed"
    },
    "tags": []
   },
   "outputs": [
    {
     "data": {
      "image/png": "[encoded data removed]",
      "text/plain": [
       "<Figure size 1000x500 with 1 Axes>"
      ]
     },
     "metadata": {},
     "output_type": "display_data"
    }
   ],
   "source": [
    "# Plotting data distribution\n",
    "plt.figure(figsize=(10,5))\n",
    "plt.title('HEIGHT vs WEIGHT')\n",
    "plt.xlabel('Height', fontsize=15)\n",
    "plt.ylabel('Weight', fontsize=15)\n",
    "plt.scatter( data.Height, data.Weight, color='blue')\n",
    "plt.show()"
   ]
  },
  {
   "cell_type": "code",
   "execution_count": null,
   "id": "366a0121",
   "metadata": {},
   "outputs": [],
   "source": []
  }
 ],
 "metadata": {
  "kernelspec": {
   "display_name": "Python 3 (ipykernel)",
   "language": "python",
   "name": "python3"
  },
  "language_info": {
   "codemirror_mode": {
    "name": "ipython",
    "version": 3
   },
   "file_extension": ".py",
   "mimetype": "text/x-python",
   "name": "python",
   "nbconvert_exporter": "python",
   "pygments_lexer": "ipython3",
   "version": "3.10.9"
  },
  "papermill": {
   "default_parameters": {},
   "duration": 9.490457,
   "end_time": "2021-06-06T17:10:58.942883",
   "environment_variables": {},
   "exception": null,
   "input_path": "__notebook__.ipynb",
   "output_path": "__notebook__.ipynb",
   "parameters": {},
   "start_time": "2021-06-06T17:10:49.452426",
   "version": "2.3.2"
  }
 },
 "nbformat": 4,
 "nbformat_minor": 5
}
